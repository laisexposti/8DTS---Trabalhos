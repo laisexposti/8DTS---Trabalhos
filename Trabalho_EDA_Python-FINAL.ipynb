{
 "cells": [
  {
   "cell_type": "markdown",
   "metadata": {},
   "source": [
    "# Trabalho Final - Análise de Dados com Python\n",
    "\n",
    "Integrantes:\n",
    "\n",
    "    1) nome1\n",
    "    2) nome2\n",
    "    3) nome3\n",
    "    4) nome4"
   ]
  },
  {
   "cell_type": "markdown",
   "metadata": {},
   "source": [
    "### Enunciado\n",
    "O departamento de crédito da QuantumFinance solicitou a criação de um algoritmo para predizer o valor dos imóveis em determinada região a fim de mensurarem a provisão de crédito para o próximo ano. Assim, baseado no dataset disponível, use Regressão Linear Multivariada para predizer o valor dos imóveis com um RMSE abaixo de 69000. [dataset](https://github.com/ageron/handson-ml2/tree/master/datasets/housing)\n",
    "\n",
    "Links úteis:\n",
    "\n",
    "[Linear Regression](https://scikit-learn.org/stable/modules/generated/sklearn.linear_model.LinearRegression.html)\n",
    "\n",
    "[RMSE](https://scikit-learn.org/stable/modules/generated/sklearn.metrics.mean_squared_error.html#sklearn.metrics.mean_squared_error)\n",
    "\n",
    "[Train_test_split](https://scikit-learn.org/stable/modules/generated/sklearn.model_selection.train_test_split.html)"
   ]
  },
  {
   "cell_type": "markdown",
   "metadata": {},
   "source": [
    "Roteiro de atividade:\n",
    "\n",
    "> Definição do problema\n",
    "\n",
    "> Aquisição de dados de treinamento e teste\n",
    "\n",
    "> Manipulação, preparo e limpeza dos dados\n",
    "\n",
    "> Análise, identificação de padrão e exploração dos dados\n",
    "\n",
    "> Modelagem, predição e resolução do problema\n",
    "\n",
    "> Visualização e apresentação da solução final"
   ]
  },
  {
   "cell_type": "markdown",
   "metadata": {},
   "source": [
    "## Definição do problema\n",
    "\n",
    "A partir de um conjunto de treino que lista caracteristicas de um imovel em determinada região, é possivel criar um modelo que determine o valor dos imoveis?"
   ]
  },
  {
   "cell_type": "markdown",
   "metadata": {
    "tags": []
   },
   "source": [
    "## Aquisição de dados"
   ]
  },
  {
   "cell_type": "code",
   "execution_count": 1,
   "metadata": {
    "tags": []
   },
   "outputs": [
    {
     "data": {
      "text/html": [
       "<div>\n",
       "<style scoped>\n",
       "    .dataframe tbody tr th:only-of-type {\n",
       "        vertical-align: middle;\n",
       "    }\n",
       "\n",
       "    .dataframe tbody tr th {\n",
       "        vertical-align: top;\n",
       "    }\n",
       "\n",
       "    .dataframe thead th {\n",
       "        text-align: right;\n",
       "    }\n",
       "</style>\n",
       "<table border=\"1\" class=\"dataframe\">\n",
       "  <thead>\n",
       "    <tr style=\"text-align: right;\">\n",
       "      <th></th>\n",
       "      <th>longitude</th>\n",
       "      <th>latitude</th>\n",
       "      <th>housing_median_age</th>\n",
       "      <th>total_rooms</th>\n",
       "      <th>total_bedrooms</th>\n",
       "      <th>population</th>\n",
       "      <th>households</th>\n",
       "      <th>median_income</th>\n",
       "      <th>median_house_value</th>\n",
       "      <th>ocean_proximity</th>\n",
       "    </tr>\n",
       "  </thead>\n",
       "  <tbody>\n",
       "    <tr>\n",
       "      <th>0</th>\n",
       "      <td>-122.23</td>\n",
       "      <td>37.88</td>\n",
       "      <td>41.0</td>\n",
       "      <td>880.0</td>\n",
       "      <td>129.0</td>\n",
       "      <td>322.0</td>\n",
       "      <td>126.0</td>\n",
       "      <td>8.3252</td>\n",
       "      <td>452600.0</td>\n",
       "      <td>NEAR BAY</td>\n",
       "    </tr>\n",
       "    <tr>\n",
       "      <th>1</th>\n",
       "      <td>-122.22</td>\n",
       "      <td>37.86</td>\n",
       "      <td>21.0</td>\n",
       "      <td>7099.0</td>\n",
       "      <td>1106.0</td>\n",
       "      <td>2401.0</td>\n",
       "      <td>1138.0</td>\n",
       "      <td>8.3014</td>\n",
       "      <td>358500.0</td>\n",
       "      <td>NEAR BAY</td>\n",
       "    </tr>\n",
       "    <tr>\n",
       "      <th>2</th>\n",
       "      <td>-122.24</td>\n",
       "      <td>37.85</td>\n",
       "      <td>52.0</td>\n",
       "      <td>1467.0</td>\n",
       "      <td>190.0</td>\n",
       "      <td>496.0</td>\n",
       "      <td>177.0</td>\n",
       "      <td>7.2574</td>\n",
       "      <td>352100.0</td>\n",
       "      <td>NEAR BAY</td>\n",
       "    </tr>\n",
       "    <tr>\n",
       "      <th>3</th>\n",
       "      <td>-122.25</td>\n",
       "      <td>37.85</td>\n",
       "      <td>52.0</td>\n",
       "      <td>1274.0</td>\n",
       "      <td>235.0</td>\n",
       "      <td>558.0</td>\n",
       "      <td>219.0</td>\n",
       "      <td>5.6431</td>\n",
       "      <td>341300.0</td>\n",
       "      <td>NEAR BAY</td>\n",
       "    </tr>\n",
       "    <tr>\n",
       "      <th>4</th>\n",
       "      <td>-122.25</td>\n",
       "      <td>37.85</td>\n",
       "      <td>52.0</td>\n",
       "      <td>1627.0</td>\n",
       "      <td>280.0</td>\n",
       "      <td>565.0</td>\n",
       "      <td>259.0</td>\n",
       "      <td>3.8462</td>\n",
       "      <td>342200.0</td>\n",
       "      <td>NEAR BAY</td>\n",
       "    </tr>\n",
       "  </tbody>\n",
       "</table>\n",
       "</div>"
      ],
      "text/plain": [
       "   longitude  latitude  housing_median_age  total_rooms  total_bedrooms  \\\n",
       "0    -122.23     37.88                41.0        880.0           129.0   \n",
       "1    -122.22     37.86                21.0       7099.0          1106.0   \n",
       "2    -122.24     37.85                52.0       1467.0           190.0   \n",
       "3    -122.25     37.85                52.0       1274.0           235.0   \n",
       "4    -122.25     37.85                52.0       1627.0           280.0   \n",
       "\n",
       "   population  households  median_income  median_house_value ocean_proximity  \n",
       "0       322.0       126.0         8.3252            452600.0        NEAR BAY  \n",
       "1      2401.0      1138.0         8.3014            358500.0        NEAR BAY  \n",
       "2       496.0       177.0         7.2574            352100.0        NEAR BAY  \n",
       "3       558.0       219.0         5.6431            341300.0        NEAR BAY  \n",
       "4       565.0       259.0         3.8462            342200.0        NEAR BAY  "
      ]
     },
     "execution_count": 1,
     "metadata": {},
     "output_type": "execute_result"
    }
   ],
   "source": [
    "# leitura dos dados\n",
    "import pandas as pd\n",
    "import numpy as np\n",
    "import matplotlib.pyplot as plt\n",
    "import seaborn as sns\n",
    "from math import radians, cos, sin, asin, sqrt\n",
    "from sklearn.model_selection import train_test_split\n",
    "from sklearn.linear_model import LinearRegression\n",
    "from sklearn.metrics import mean_squared_error\n",
    "from sklearn.preprocessing import StandardScaler\n",
    "import statsmodels.api as sm\n",
    "#from sklearn import linear_model,datasets\n",
    "\n",
    "housing = pd.read_csv('housing.csv')\n",
    "housing.head()"
   ]
  },
  {
   "cell_type": "code",
   "execution_count": 2,
   "metadata": {
    "tags": []
   },
   "outputs": [
    {
     "name": "stdout",
     "output_type": "stream",
     "text": [
      "<class 'pandas.core.frame.DataFrame'>\n",
      "RangeIndex: 20640 entries, 0 to 20639\n",
      "Data columns (total 10 columns):\n",
      " #   Column              Non-Null Count  Dtype  \n",
      "---  ------              --------------  -----  \n",
      " 0   longitude           20640 non-null  float64\n",
      " 1   latitude            20640 non-null  float64\n",
      " 2   housing_median_age  20640 non-null  float64\n",
      " 3   total_rooms         20640 non-null  float64\n",
      " 4   total_bedrooms      20433 non-null  float64\n",
      " 5   population          20640 non-null  float64\n",
      " 6   households          20640 non-null  float64\n",
      " 7   median_income       20640 non-null  float64\n",
      " 8   median_house_value  20640 non-null  float64\n",
      " 9   ocean_proximity     20640 non-null  object \n",
      "dtypes: float64(9), object(1)\n",
      "memory usage: 1.6+ MB\n",
      "\n",
      "----------------------------------------\n",
      "\n"
     ]
    }
   ],
   "source": [
    "housing.info()\n",
    "print()\n",
    "print('-'*40)\n",
    "print()"
   ]
  },
  {
   "cell_type": "code",
   "execution_count": 3,
   "metadata": {
    "tags": []
   },
   "outputs": [
    {
     "data": {
      "text/html": [
       "<div>\n",
       "<style scoped>\n",
       "    .dataframe tbody tr th:only-of-type {\n",
       "        vertical-align: middle;\n",
       "    }\n",
       "\n",
       "    .dataframe tbody tr th {\n",
       "        vertical-align: top;\n",
       "    }\n",
       "\n",
       "    .dataframe thead th {\n",
       "        text-align: right;\n",
       "    }\n",
       "</style>\n",
       "<table border=\"1\" class=\"dataframe\">\n",
       "  <thead>\n",
       "    <tr style=\"text-align: right;\">\n",
       "      <th></th>\n",
       "      <th>longitude</th>\n",
       "      <th>latitude</th>\n",
       "      <th>housing_median_age</th>\n",
       "      <th>total_rooms</th>\n",
       "      <th>total_bedrooms</th>\n",
       "      <th>population</th>\n",
       "      <th>households</th>\n",
       "      <th>median_income</th>\n",
       "      <th>median_house_value</th>\n",
       "      <th>ocean_proximity</th>\n",
       "    </tr>\n",
       "  </thead>\n",
       "  <tbody>\n",
       "    <tr>\n",
       "      <th>20267</th>\n",
       "      <td>-119.19</td>\n",
       "      <td>34.20</td>\n",
       "      <td>18.0</td>\n",
       "      <td>3620.0</td>\n",
       "      <td>NaN</td>\n",
       "      <td>3171.0</td>\n",
       "      <td>779.0</td>\n",
       "      <td>3.3409</td>\n",
       "      <td>220500.0</td>\n",
       "      <td>NEAR OCEAN</td>\n",
       "    </tr>\n",
       "    <tr>\n",
       "      <th>20268</th>\n",
       "      <td>-119.18</td>\n",
       "      <td>34.19</td>\n",
       "      <td>19.0</td>\n",
       "      <td>2393.0</td>\n",
       "      <td>NaN</td>\n",
       "      <td>1938.0</td>\n",
       "      <td>762.0</td>\n",
       "      <td>1.6953</td>\n",
       "      <td>167400.0</td>\n",
       "      <td>NEAR OCEAN</td>\n",
       "    </tr>\n",
       "    <tr>\n",
       "      <th>20372</th>\n",
       "      <td>-118.88</td>\n",
       "      <td>34.17</td>\n",
       "      <td>15.0</td>\n",
       "      <td>4260.0</td>\n",
       "      <td>NaN</td>\n",
       "      <td>1701.0</td>\n",
       "      <td>669.0</td>\n",
       "      <td>5.1033</td>\n",
       "      <td>410700.0</td>\n",
       "      <td>&lt;1H OCEAN</td>\n",
       "    </tr>\n",
       "    <tr>\n",
       "      <th>20460</th>\n",
       "      <td>-118.75</td>\n",
       "      <td>34.29</td>\n",
       "      <td>17.0</td>\n",
       "      <td>5512.0</td>\n",
       "      <td>NaN</td>\n",
       "      <td>2734.0</td>\n",
       "      <td>814.0</td>\n",
       "      <td>6.6073</td>\n",
       "      <td>258100.0</td>\n",
       "      <td>&lt;1H OCEAN</td>\n",
       "    </tr>\n",
       "    <tr>\n",
       "      <th>20484</th>\n",
       "      <td>-118.72</td>\n",
       "      <td>34.28</td>\n",
       "      <td>17.0</td>\n",
       "      <td>3051.0</td>\n",
       "      <td>NaN</td>\n",
       "      <td>1705.0</td>\n",
       "      <td>495.0</td>\n",
       "      <td>5.7376</td>\n",
       "      <td>218600.0</td>\n",
       "      <td>&lt;1H OCEAN</td>\n",
       "    </tr>\n",
       "  </tbody>\n",
       "</table>\n",
       "</div>"
      ],
      "text/plain": [
       "       longitude  latitude  housing_median_age  total_rooms  total_bedrooms  \\\n",
       "20267    -119.19     34.20                18.0       3620.0             NaN   \n",
       "20268    -119.18     34.19                19.0       2393.0             NaN   \n",
       "20372    -118.88     34.17                15.0       4260.0             NaN   \n",
       "20460    -118.75     34.29                17.0       5512.0             NaN   \n",
       "20484    -118.72     34.28                17.0       3051.0             NaN   \n",
       "\n",
       "       population  households  median_income  median_house_value  \\\n",
       "20267      3171.0       779.0         3.3409            220500.0   \n",
       "20268      1938.0       762.0         1.6953            167400.0   \n",
       "20372      1701.0       669.0         5.1033            410700.0   \n",
       "20460      2734.0       814.0         6.6073            258100.0   \n",
       "20484      1705.0       495.0         5.7376            218600.0   \n",
       "\n",
       "      ocean_proximity  \n",
       "20267      NEAR OCEAN  \n",
       "20268      NEAR OCEAN  \n",
       "20372       <1H OCEAN  \n",
       "20460       <1H OCEAN  \n",
       "20484       <1H OCEAN  "
      ]
     },
     "execution_count": 3,
     "metadata": {},
     "output_type": "execute_result"
    }
   ],
   "source": [
    "#somente total_bedrooms possui nulo (nulo nesse caso = 0?):\n",
    "housing.sort_values('total_bedrooms').tail()\n",
    "#parece melhor substituir pela mediana dado que nao está claro pelo dataset e contexto se nulo em total bedrooms seria equivalente a zero\n",
    "#como sao poucos dados nulos, apenas 207 registros (1%), qualquer substituicao nao deve interferir nos resultados do modelo"
   ]
  },
  {
   "cell_type": "code",
   "execution_count": 4,
   "metadata": {
    "tags": []
   },
   "outputs": [
    {
     "data": {
      "text/html": [
       "<div>\n",
       "<style scoped>\n",
       "    .dataframe tbody tr th:only-of-type {\n",
       "        vertical-align: middle;\n",
       "    }\n",
       "\n",
       "    .dataframe tbody tr th {\n",
       "        vertical-align: top;\n",
       "    }\n",
       "\n",
       "    .dataframe thead th {\n",
       "        text-align: right;\n",
       "    }\n",
       "</style>\n",
       "<table border=\"1\" class=\"dataframe\">\n",
       "  <thead>\n",
       "    <tr style=\"text-align: right;\">\n",
       "      <th></th>\n",
       "      <th>longitude</th>\n",
       "      <th>latitude</th>\n",
       "      <th>housing_median_age</th>\n",
       "      <th>total_rooms</th>\n",
       "      <th>total_bedrooms</th>\n",
       "      <th>population</th>\n",
       "      <th>households</th>\n",
       "      <th>median_income</th>\n",
       "      <th>median_house_value</th>\n",
       "    </tr>\n",
       "  </thead>\n",
       "  <tbody>\n",
       "    <tr>\n",
       "      <th>count</th>\n",
       "      <td>20640.000000</td>\n",
       "      <td>20640.000000</td>\n",
       "      <td>20640.000000</td>\n",
       "      <td>20640.000000</td>\n",
       "      <td>20433.000000</td>\n",
       "      <td>20640.000000</td>\n",
       "      <td>20640.000000</td>\n",
       "      <td>20640.000000</td>\n",
       "      <td>20640.000000</td>\n",
       "    </tr>\n",
       "    <tr>\n",
       "      <th>mean</th>\n",
       "      <td>-119.569704</td>\n",
       "      <td>35.631861</td>\n",
       "      <td>28.639486</td>\n",
       "      <td>2635.763081</td>\n",
       "      <td>537.870553</td>\n",
       "      <td>1425.476744</td>\n",
       "      <td>499.539680</td>\n",
       "      <td>3.870671</td>\n",
       "      <td>206855.816909</td>\n",
       "    </tr>\n",
       "    <tr>\n",
       "      <th>std</th>\n",
       "      <td>2.003532</td>\n",
       "      <td>2.135952</td>\n",
       "      <td>12.585558</td>\n",
       "      <td>2181.615252</td>\n",
       "      <td>421.385070</td>\n",
       "      <td>1132.462122</td>\n",
       "      <td>382.329753</td>\n",
       "      <td>1.899822</td>\n",
       "      <td>115395.615874</td>\n",
       "    </tr>\n",
       "    <tr>\n",
       "      <th>min</th>\n",
       "      <td>-124.350000</td>\n",
       "      <td>32.540000</td>\n",
       "      <td>1.000000</td>\n",
       "      <td>2.000000</td>\n",
       "      <td>1.000000</td>\n",
       "      <td>3.000000</td>\n",
       "      <td>1.000000</td>\n",
       "      <td>0.499900</td>\n",
       "      <td>14999.000000</td>\n",
       "    </tr>\n",
       "    <tr>\n",
       "      <th>25%</th>\n",
       "      <td>-121.800000</td>\n",
       "      <td>33.930000</td>\n",
       "      <td>18.000000</td>\n",
       "      <td>1447.750000</td>\n",
       "      <td>296.000000</td>\n",
       "      <td>787.000000</td>\n",
       "      <td>280.000000</td>\n",
       "      <td>2.563400</td>\n",
       "      <td>119600.000000</td>\n",
       "    </tr>\n",
       "    <tr>\n",
       "      <th>50%</th>\n",
       "      <td>-118.490000</td>\n",
       "      <td>34.260000</td>\n",
       "      <td>29.000000</td>\n",
       "      <td>2127.000000</td>\n",
       "      <td>435.000000</td>\n",
       "      <td>1166.000000</td>\n",
       "      <td>409.000000</td>\n",
       "      <td>3.534800</td>\n",
       "      <td>179700.000000</td>\n",
       "    </tr>\n",
       "    <tr>\n",
       "      <th>75%</th>\n",
       "      <td>-118.010000</td>\n",
       "      <td>37.710000</td>\n",
       "      <td>37.000000</td>\n",
       "      <td>3148.000000</td>\n",
       "      <td>647.000000</td>\n",
       "      <td>1725.000000</td>\n",
       "      <td>605.000000</td>\n",
       "      <td>4.743250</td>\n",
       "      <td>264725.000000</td>\n",
       "    </tr>\n",
       "    <tr>\n",
       "      <th>max</th>\n",
       "      <td>-114.310000</td>\n",
       "      <td>41.950000</td>\n",
       "      <td>52.000000</td>\n",
       "      <td>39320.000000</td>\n",
       "      <td>6445.000000</td>\n",
       "      <td>35682.000000</td>\n",
       "      <td>6082.000000</td>\n",
       "      <td>15.000100</td>\n",
       "      <td>500001.000000</td>\n",
       "    </tr>\n",
       "  </tbody>\n",
       "</table>\n",
       "</div>"
      ],
      "text/plain": [
       "          longitude      latitude  housing_median_age   total_rooms  \\\n",
       "count  20640.000000  20640.000000        20640.000000  20640.000000   \n",
       "mean    -119.569704     35.631861           28.639486   2635.763081   \n",
       "std        2.003532      2.135952           12.585558   2181.615252   \n",
       "min     -124.350000     32.540000            1.000000      2.000000   \n",
       "25%     -121.800000     33.930000           18.000000   1447.750000   \n",
       "50%     -118.490000     34.260000           29.000000   2127.000000   \n",
       "75%     -118.010000     37.710000           37.000000   3148.000000   \n",
       "max     -114.310000     41.950000           52.000000  39320.000000   \n",
       "\n",
       "       total_bedrooms    population    households  median_income  \\\n",
       "count    20433.000000  20640.000000  20640.000000   20640.000000   \n",
       "mean       537.870553   1425.476744    499.539680       3.870671   \n",
       "std        421.385070   1132.462122    382.329753       1.899822   \n",
       "min          1.000000      3.000000      1.000000       0.499900   \n",
       "25%        296.000000    787.000000    280.000000       2.563400   \n",
       "50%        435.000000   1166.000000    409.000000       3.534800   \n",
       "75%        647.000000   1725.000000    605.000000       4.743250   \n",
       "max       6445.000000  35682.000000   6082.000000      15.000100   \n",
       "\n",
       "       median_house_value  \n",
       "count        20640.000000  \n",
       "mean        206855.816909  \n",
       "std         115395.615874  \n",
       "min          14999.000000  \n",
       "25%         119600.000000  \n",
       "50%         179700.000000  \n",
       "75%         264725.000000  \n",
       "max         500001.000000  "
      ]
     },
     "execution_count": 4,
     "metadata": {},
     "output_type": "execute_result"
    }
   ],
   "source": [
    "housing.describe()"
   ]
  },
  {
   "cell_type": "markdown",
   "metadata": {
    "tags": []
   },
   "source": [
    "## Exploratória de dados:\n",
    "1. Latitude e longitude so fazem sentido se forem usadas como pares ordenados\n",
    "2. Total rooms, total bedrooms, population e households possuem outliers, tanto para mais quanto para menos (vide boxplot)\n",
    "3. Total bedrooms tem que ser preenchido com a mediana\n",
    "4. Ajuste de outlier e criaação de variaveis dummy \n",
    "5. Descarte das variaveis que não serão utilizadas"
   ]
  },
  {
   "cell_type": "markdown",
   "metadata": {
    "tags": []
   },
   "source": [
    "#### 1. Ajustando lat e long para que as coordenadas nos digam a distancia com relacao ao ponto zero"
   ]
  },
  {
   "cell_type": "code",
   "execution_count": 5,
   "metadata": {
    "tags": []
   },
   "outputs": [],
   "source": [
    "def single_pt_haversine(lat, lng, degrees=True):\n",
    "    \"\"\"\n",
    "    'Single-point' Haversine: calcula distancia entre lat-long e o ponto (0,0)\n",
    "    \"\"\"\n",
    "    r = 6371 # Raio da terra em km.\n",
    "\n",
    "    # Converte grausd decimais em radianos\n",
    "    if degrees:\n",
    "        lat, lng = map(radians, [lat, lng])\n",
    "\n",
    "    # Formula 'Single-point' Haversine \n",
    "    a = sin(lat/2)**2 + cos(lat) * sin(lng/2)**2\n",
    "    d = 2 * r * asin(sqrt(a)) \n",
    "\n",
    "    return d"
   ]
  },
  {
   "cell_type": "code",
   "execution_count": 6,
   "metadata": {
    "tags": []
   },
   "outputs": [
    {
     "data": {
      "text/plain": [
       "count    20640.000000\n",
       "mean     12629.369460\n",
       "std        105.019007\n",
       "min      12221.324718\n",
       "25%      12556.399408\n",
       "50%      12590.803957\n",
       "75%      12739.769804\n",
       "max      12851.344147\n",
       "Name: harvesine_distance, dtype: float64"
      ]
     },
     "execution_count": 6,
     "metadata": {},
     "output_type": "execute_result"
    }
   ],
   "source": [
    "housing['harvesine_distance'] = [single_pt_haversine(latitude, longitude) for latitude, longitude in zip(housing.latitude, housing.longitude)]\n",
    "housing['harvesine_distance'].describe()"
   ]
  },
  {
   "cell_type": "markdown",
   "metadata": {
    "tags": []
   },
   "source": [
    "#### 2. Analisando o boxplot das variaveis que possuem outliers"
   ]
  },
  {
   "cell_type": "code",
   "execution_count": 7,
   "metadata": {
    "tags": []
   },
   "outputs": [
    {
     "data": {
      "image/png": "[encoded data removed]",
      "text/plain": [
       "<Figure size 640x480 with 1 Axes>"
      ]
     },
     "metadata": {},
     "output_type": "display_data"
    },
    {
     "data": {
      "image/png": "[encoded data removed]",
      "text/plain": [
       "<Figure size 640x480 with 1 Axes>"
      ]
     },
     "metadata": {},
     "output_type": "display_data"
    }
   ],
   "source": [
    "#separando a figura do boxplot em duas para que as variaveis com escalas parecidas fiquem \n",
    "#em uma unica figura\n",
    "df = pd.DataFrame(housing, columns = ['total_rooms','population'])\n",
    "sns.boxplot(x=\"variable\", y=\"value\", data=pd.melt(df))\n",
    "plt.show()\n",
    "\n",
    "df = pd.DataFrame(housing, columns = ['total_bedrooms','households'])\n",
    "sns.boxplot(x=\"variable\", y=\"value\", data=pd.melt(df))\n",
    "plt.show()"
   ]
  },
  {
   "cell_type": "code",
   "execution_count": 8,
   "metadata": {
    "tags": []
   },
   "outputs": [
    {
     "name": "stdout",
     "output_type": "stream",
     "text": [
      "count    20640.000000\n",
      "mean      2635.763081\n",
      "std       2181.615252\n",
      "min          2.000000\n",
      "1%         164.000000\n",
      "5%         620.950000\n",
      "10%        941.000000\n",
      "25%       1447.750000\n",
      "50%       2127.000000\n",
      "75%       3148.000000\n",
      "90%       4651.500000\n",
      "95%       6213.200000\n",
      "99%      11212.110000\n",
      "max      39320.000000\n",
      "Name: total_rooms, dtype: float64\n",
      "\n",
      "\n",
      "count    20640.000000\n",
      "mean      1425.476744\n",
      "std       1132.462122\n",
      "min          3.000000\n",
      "1%          88.000000\n",
      "5%         348.000000\n",
      "10%        510.000000\n",
      "25%        787.000000\n",
      "50%       1166.000000\n",
      "75%       1725.000000\n",
      "90%       2566.000000\n",
      "95%       3288.000000\n",
      "99%       5805.830000\n",
      "max      35682.000000\n",
      "Name: population, dtype: float64\n",
      "\n",
      "\n",
      "count    20433.000000\n",
      "mean       537.870553\n",
      "std        421.385070\n",
      "min          1.000000\n",
      "1%          36.000000\n",
      "5%         137.000000\n",
      "10%        198.000000\n",
      "25%        296.000000\n",
      "50%        435.000000\n",
      "75%        647.000000\n",
      "90%        965.000000\n",
      "95%       1275.400000\n",
      "99%       2221.360000\n",
      "max       6445.000000\n",
      "Name: total_bedrooms, dtype: float64\n",
      "\n",
      "\n",
      "count    20640.000000\n",
      "mean       499.539680\n",
      "std        382.329753\n",
      "min          1.000000\n",
      "1%          31.000000\n",
      "5%         125.000000\n",
      "10%        184.000000\n",
      "25%        280.000000\n",
      "50%        409.000000\n",
      "75%        605.000000\n",
      "90%        890.000000\n",
      "95%       1162.000000\n",
      "99%       1982.660000\n",
      "max       6082.000000\n",
      "Name: households, dtype: float64\n",
      "\n",
      "\n",
      "count    20640.000000\n",
      "mean         3.870671\n",
      "std          1.899822\n",
      "min          0.499900\n",
      "1%           1.069631\n",
      "5%           1.600570\n",
      "10%          1.903800\n",
      "25%          2.563400\n",
      "50%          3.534800\n",
      "75%          4.743250\n",
      "90%          6.159210\n",
      "95%          7.300305\n",
      "99%         10.596540\n",
      "max         15.000100\n",
      "Name: median_income, dtype: float64\n",
      "\n",
      "\n"
     ]
    },
    {
     "data": {
      "text/plain": [
       "count    20640.000000\n",
       "mean      1425.476744\n",
       "std       1132.462122\n",
       "min          3.000000\n",
       "10%        510.000000\n",
       "20%        710.000000\n",
       "30%        859.000000\n",
       "40%       1007.000000\n",
       "50%       1166.000000\n",
       "60%       1348.400000\n",
       "70%       1580.000000\n",
       "80%       1908.000000\n",
       "90%       2566.000000\n",
       "max      35682.000000\n",
       "Name: population, dtype: float64"
      ]
     },
     "execution_count": 8,
     "metadata": {},
     "output_type": "execute_result"
    }
   ],
   "source": [
    "#analisando os percentis para pegar os valores exatos dos percentis 1 e 99 para substituir:\n",
    "#obs: o restante das outras variaveis nao tem um dp tao alto, por isso, nao serão substituidas\n",
    "def percentil(df, coluna):\n",
    "    return df[coluna].describe(percentiles=[0.01, 0.05, 0.1, 0.25, 0.5, 0.75, 0.9, 0.95, 0.99])\n",
    "\n",
    "def decil(df, coluna):\n",
    "    return df[coluna].describe(percentiles=[0.1, 0.2, 0.3, 0.4, 0.5, 0.6, 0.7, 0.8, 0.9])\n",
    "\n",
    "lista_vars = ['total_rooms','population','total_bedrooms','households', 'median_income'] \n",
    "for i in lista_vars:\n",
    "    print(percentil(housing,i))\n",
    "    print(\"\\n\")\n",
    "    \n",
    "decil(housing, 'population')"
   ]
  },
  {
   "cell_type": "markdown",
   "metadata": {
    "tags": []
   },
   "source": [
    "#### 3. Substituindo nulos pela mediana em 'total_bedrooms'"
   ]
  },
  {
   "cell_type": "code",
   "execution_count": 9,
   "metadata": {
    "tags": []
   },
   "outputs": [],
   "source": [
    "# substituindo nulo pela mediana de acordo com quem está na mesma distancia ao ponto zero\n",
    "housing['total_bedrooms'] = housing['total_bedrooms'].fillna(housing.groupby('harvesine_distance')['total_bedrooms'].transform('median'))\n",
    "#83 registros continuam com nulo pois nao foi encontrado outros registros na base com o mesmo valor em harvesine distance, sendo assim, substituirei pela mediana da base toda\n",
    "housing['total_bedrooms'].fillna(housing['total_bedrooms'].median(), inplace=True)"
   ]
  },
  {
   "cell_type": "code",
   "execution_count": 10,
   "metadata": {
    "tags": []
   },
   "outputs": [
    {
     "name": "stdout",
     "output_type": "stream",
     "text": [
      "<class 'pandas.core.frame.DataFrame'>\n",
      "RangeIndex: 20640 entries, 0 to 20639\n",
      "Data columns (total 11 columns):\n",
      " #   Column              Non-Null Count  Dtype  \n",
      "---  ------              --------------  -----  \n",
      " 0   longitude           20640 non-null  float64\n",
      " 1   latitude            20640 non-null  float64\n",
      " 2   housing_median_age  20640 non-null  float64\n",
      " 3   total_rooms         20640 non-null  float64\n",
      " 4   total_bedrooms      20640 non-null  float64\n",
      " 5   population          20640 non-null  float64\n",
      " 6   households          20640 non-null  float64\n",
      " 7   median_income       20640 non-null  float64\n",
      " 8   median_house_value  20640 non-null  float64\n",
      " 9   ocean_proximity     20640 non-null  object \n",
      " 10  harvesine_distance  20640 non-null  float64\n",
      "dtypes: float64(10), object(1)\n",
      "memory usage: 1.7+ MB\n",
      "\n",
      "----------------------------------------\n",
      "\n"
     ]
    }
   ],
   "source": [
    "housing.info()\n",
    "print()\n",
    "print('-'*40)\n",
    "print()"
   ]
  },
  {
   "cell_type": "markdown",
   "metadata": {},
   "source": [
    "#### 4. Substituindo/transformando variaveis"
   ]
  },
  {
   "cell_type": "code",
   "execution_count": 11,
   "metadata": {},
   "outputs": [],
   "source": [
    "#Ajuste de outliers\n",
    "housing['total_rooms'] = np.where(housing['total_rooms'] <= 164, 164,\n",
    "                                  np.where(housing['total_rooms'] >= 11212.11, 11212.11,\n",
    "                                           housing['total_rooms']))\n",
    "\n",
    "housing['total_bedrooms'] = np.where(housing['total_bedrooms'] <= 36, 36,\n",
    "                                     np.where(housing['total_bedrooms'] >= 2221.36, 2221.36,\n",
    "                                              housing['total_bedrooms']))\n",
    "\n",
    "housing['population'] = np.where(housing['population'] <= 88, 88,\n",
    "                                     np.where(housing['population'] >= 5805.83, 5805.83,\n",
    "                                              housing['population']))\n",
    "\n",
    "housing['households'] = np.where(housing['households'] <= 31, 31,\n",
    "                                     np.where(housing['households'] >= 1982.66, 1982.66, \n",
    "                                              housing['households']))\n",
    "\n",
    "housing['harvesine_distance'] = np.where(housing['harvesine_distance'] <= 12556.40, 1,\n",
    "                                     np.where(housing['harvesine_distance'] <= 12590.80, 2,\n",
    "                                              np.where(housing['harvesine_distance'] <= 12739.77, 3, 4)))"
   ]
  },
  {
   "cell_type": "code",
   "execution_count": 12,
   "metadata": {
    "tags": []
   },
   "outputs": [
    {
     "data": {
      "text/html": [
       "<div>\n",
       "<style scoped>\n",
       "    .dataframe tbody tr th:only-of-type {\n",
       "        vertical-align: middle;\n",
       "    }\n",
       "\n",
       "    .dataframe tbody tr th {\n",
       "        vertical-align: top;\n",
       "    }\n",
       "\n",
       "    .dataframe thead th {\n",
       "        text-align: right;\n",
       "    }\n",
       "</style>\n",
       "<table border=\"1\" class=\"dataframe\">\n",
       "  <thead>\n",
       "    <tr style=\"text-align: right;\">\n",
       "      <th></th>\n",
       "      <th>count</th>\n",
       "      <th>mean</th>\n",
       "      <th>std</th>\n",
       "      <th>min</th>\n",
       "      <th>25%</th>\n",
       "      <th>50%</th>\n",
       "      <th>75%</th>\n",
       "      <th>max</th>\n",
       "    </tr>\n",
       "    <tr>\n",
       "      <th>ocean_proximity</th>\n",
       "      <th></th>\n",
       "      <th></th>\n",
       "      <th></th>\n",
       "      <th></th>\n",
       "      <th></th>\n",
       "      <th></th>\n",
       "      <th></th>\n",
       "      <th></th>\n",
       "    </tr>\n",
       "  </thead>\n",
       "  <tbody>\n",
       "    <tr>\n",
       "      <th>&lt;1H OCEAN</th>\n",
       "      <td>9136.0</td>\n",
       "      <td>240084.285464</td>\n",
       "      <td>106124.292213</td>\n",
       "      <td>17500.0</td>\n",
       "      <td>164100.0</td>\n",
       "      <td>214850.0</td>\n",
       "      <td>289100.0</td>\n",
       "      <td>500001.0</td>\n",
       "    </tr>\n",
       "    <tr>\n",
       "      <th>INLAND</th>\n",
       "      <td>6551.0</td>\n",
       "      <td>124805.392001</td>\n",
       "      <td>70007.908494</td>\n",
       "      <td>14999.0</td>\n",
       "      <td>77500.0</td>\n",
       "      <td>108500.0</td>\n",
       "      <td>148950.0</td>\n",
       "      <td>500001.0</td>\n",
       "    </tr>\n",
       "    <tr>\n",
       "      <th>ISLAND</th>\n",
       "      <td>5.0</td>\n",
       "      <td>380440.000000</td>\n",
       "      <td>80559.561816</td>\n",
       "      <td>287500.0</td>\n",
       "      <td>300000.0</td>\n",
       "      <td>414700.0</td>\n",
       "      <td>450000.0</td>\n",
       "      <td>450000.0</td>\n",
       "    </tr>\n",
       "    <tr>\n",
       "      <th>NEAR BAY</th>\n",
       "      <td>2290.0</td>\n",
       "      <td>259212.311790</td>\n",
       "      <td>122818.537064</td>\n",
       "      <td>22500.0</td>\n",
       "      <td>162500.0</td>\n",
       "      <td>233800.0</td>\n",
       "      <td>345700.0</td>\n",
       "      <td>500001.0</td>\n",
       "    </tr>\n",
       "    <tr>\n",
       "      <th>NEAR OCEAN</th>\n",
       "      <td>2658.0</td>\n",
       "      <td>249433.977427</td>\n",
       "      <td>122477.145927</td>\n",
       "      <td>22500.0</td>\n",
       "      <td>150000.0</td>\n",
       "      <td>229450.0</td>\n",
       "      <td>322750.0</td>\n",
       "      <td>500001.0</td>\n",
       "    </tr>\n",
       "  </tbody>\n",
       "</table>\n",
       "</div>"
      ],
      "text/plain": [
       "                  count           mean            std       min       25%  \\\n",
       "ocean_proximity                                                             \n",
       "<1H OCEAN        9136.0  240084.285464  106124.292213   17500.0  164100.0   \n",
       "INLAND           6551.0  124805.392001   70007.908494   14999.0   77500.0   \n",
       "ISLAND              5.0  380440.000000   80559.561816  287500.0  300000.0   \n",
       "NEAR BAY         2290.0  259212.311790  122818.537064   22500.0  162500.0   \n",
       "NEAR OCEAN       2658.0  249433.977427  122477.145927   22500.0  150000.0   \n",
       "\n",
       "                      50%       75%       max  \n",
       "ocean_proximity                                \n",
       "<1H OCEAN        214850.0  289100.0  500001.0  \n",
       "INLAND           108500.0  148950.0  500001.0  \n",
       "ISLAND           414700.0  450000.0  450000.0  \n",
       "NEAR BAY         233800.0  345700.0  500001.0  \n",
       "NEAR OCEAN       229450.0  322750.0  500001.0  "
      ]
     },
     "execution_count": 12,
     "metadata": {},
     "output_type": "execute_result"
    }
   ],
   "source": [
    "#Analise para criação da variável dummy:\n",
    "housing.groupby('ocean_proximity')['median_house_value'].describe()"
   ]
  },
  {
   "cell_type": "code",
   "execution_count": 13,
   "metadata": {
    "tags": []
   },
   "outputs": [],
   "source": [
    "#observe near bay, near ocean e <1h ocean têm uma distribuicao de valor da casa mto proximos. Iremos juntar essas categorias\n",
    "#ao realizar alguns testes, ficou melhor juntar ISLAND ao restante - pois apesar de nao ter valores muito proximo\n",
    "#ao restante, tem um conceito parecido e nao possui mtos registros (ou seja, nosso conceito aqui \n",
    "#se transformou em: quem está proximo/banhado pelo oceano e quem nao está)\n",
    "housing['NEAR_OCEAN'] = np.where(housing['ocean_proximity'].isin([\"NEAR OCEAN\", \"<1H OCEAN\", \"NEAR BAY\", 'ISLAND']), 1,0)"
   ]
  },
  {
   "cell_type": "code",
   "execution_count": 14,
   "metadata": {
    "tags": []
   },
   "outputs": [
    {
     "name": "stdout",
     "output_type": "stream",
     "text": [
      "                    housing_median_age  total_rooms  total_bedrooms  \\\n",
      "housing_median_age            1.000000    -0.382447       -0.331071   \n",
      "total_rooms                  -0.382447     1.000000        0.921331   \n",
      "total_bedrooms               -0.331071     0.921331        1.000000   \n",
      "population                   -0.313251     0.848430        0.876495   \n",
      "households                   -0.313472     0.914849        0.974356   \n",
      "median_income                -0.119034     0.214346       -0.014425   \n",
      "median_house_value            0.105623     0.149671        0.053064   \n",
      "harvesine_distance            0.162703    -0.045491       -0.062937   \n",
      "NEAR_OCEAN                    0.236645    -0.026889        0.008177   \n",
      "\n",
      "                    population  households  median_income  median_house_value  \\\n",
      "housing_median_age   -0.313251   -0.313472      -0.119034            0.105623   \n",
      "total_rooms           0.848430    0.914849       0.214346            0.149671   \n",
      "total_bedrooms        0.876495    0.974356      -0.014425            0.053064   \n",
      "population            1.000000    0.910205      -0.001705           -0.028889   \n",
      "households            0.910205    1.000000       0.008527            0.070798   \n",
      "median_income        -0.001705    0.008527       1.000000            0.688075   \n",
      "median_house_value   -0.028889    0.070798       0.688075            1.000000   \n",
      "harvesine_distance   -0.096802   -0.042188       0.063705            0.153755   \n",
      "NEAR_OCEAN            0.024863    0.044174       0.237496            0.484859   \n",
      "\n",
      "                    harvesine_distance  NEAR_OCEAN  \n",
      "housing_median_age            0.162703    0.236645  \n",
      "total_rooms                  -0.045491   -0.026889  \n",
      "total_bedrooms               -0.062937    0.008177  \n",
      "population                   -0.096802    0.024863  \n",
      "households                   -0.042188    0.044174  \n",
      "median_income                 0.063705    0.237496  \n",
      "median_house_value            0.153755    0.484859  \n",
      "harvesine_distance            1.000000    0.089729  \n",
      "NEAR_OCEAN                    0.089729    1.000000  \n"
     ]
    }
   ],
   "source": [
    "#analise de correlação\n",
    "#retirando a variavel categorica pra analisar a correlacao\n",
    "housing = housing.drop(['longitude', 'latitude', 'ocean_proximity'], axis=1)\n",
    "print(housing.corr())"
   ]
  },
  {
   "cell_type": "code",
   "execution_count": 15,
   "metadata": {},
   "outputs": [],
   "source": [
    "#as variaveis total_bedrooms/total_rooms e households/population são muito correlacionadas. Por isso,\n",
    "#irei testar criar uma unica variavel que faça sentido com elas:\n",
    "\n",
    "#criando uma variavel que proporciona a qtde de quartos para a qtde de comodos\n",
    "#housing['prop_bedrooms_to_rooms'] = housing['total_bedrooms']/housing['total_rooms']\n",
    "#essa variavel nao ficou boa, por isso nao será utilizada no modelo\n",
    "\n",
    "#criando uma variavel que proporciona a qtde de moradias para populacao\n",
    "housing['prop_household_to_pop'] = housing['households']/housing['population']"
   ]
  },
  {
   "cell_type": "code",
   "execution_count": 16,
   "metadata": {},
   "outputs": [],
   "source": [
    "#para conseguir atingir um RMSE < 69.000 realiziamos alguns testes de transformação de variável\n",
    "#o que consegui chegar na metrica exigida e manteve nossa predição positiva foram as transf. abaixo:\n",
    "housing['housing_median_age2'] = housing['housing_median_age']*housing['housing_median_age']\n",
    "housing['sqrt_median_house_value'] = housing['median_house_value'].apply(lambda x: sqrt(x))"
   ]
  },
  {
   "cell_type": "markdown",
   "metadata": {
    "tags": []
   },
   "source": [
    "#### 5. Drop de variaveis que nao sao mais uteis"
   ]
  },
  {
   "cell_type": "code",
   "execution_count": 17,
   "metadata": {},
   "outputs": [],
   "source": [
    "#avabei nao usando harversine distance pq a proximidade do oceano ja descreve bem o problema\n",
    "housing = housing.drop(['total_bedrooms', 'households','population','median_house_value','housing_median_age'], axis=1)"
   ]
  },
  {
   "cell_type": "code",
   "execution_count": 18,
   "metadata": {},
   "outputs": [],
   "source": [
    "#iremos padronizar as variaveis para que elas fiquem na mesma escala e sejam comparaveis\n",
    "#neste momento irei padronizar apenas para checar se ainda temos alguma correlacao muito \n",
    "#forte entre as variaveis e se alguma tem que ser retirada\n",
    "ss_ = StandardScaler().fit(housing)\n",
    "housing_scaled = pd.DataFrame(ss_.transform(housing))"
   ]
  },
  {
   "cell_type": "code",
   "execution_count": 19,
   "metadata": {
    "tags": []
   },
   "outputs": [
    {
     "name": "stdout",
     "output_type": "stream",
     "text": [
      "          0         1         2         3         4         5         6\n",
      "0  1.000000  0.214346 -0.045491 -0.026889  0.090294 -0.342817  0.161913\n",
      "1  0.214346  1.000000  0.063705  0.237496 -0.003231 -0.101859  0.681932\n",
      "2 -0.045491  0.063705  1.000000  0.089729  0.138379  0.170970  0.143401\n",
      "3 -0.026889  0.237496  0.089729  1.000000  0.060675  0.222617  0.532370\n",
      "4  0.090294 -0.003231  0.138379  0.060675  1.000000  0.052588  0.262539\n",
      "5 -0.342817 -0.101859  0.170970  0.222617  0.052588  1.000000  0.107443\n",
      "6  0.161913  0.681932  0.143401  0.532370  0.262539  0.107443  1.000000\n"
     ]
    }
   ],
   "source": [
    "#a correlacao entre as variaveis ficou otima (a unica acima de 0.6 é com relacao ao nosso target)\n",
    "print(housing_scaled.corr())"
   ]
  },
  {
   "cell_type": "markdown",
   "metadata": {},
   "source": [
    "## Separação bases de treino e teste"
   ]
  },
  {
   "cell_type": "code",
   "execution_count": 20,
   "metadata": {
    "tags": []
   },
   "outputs": [
    {
     "data": {
      "text/plain": [
       "((14448, 6), (6192, 6), (14448,), (6192,))"
      ]
     },
     "execution_count": 20,
     "metadata": {},
     "output_type": "execute_result"
    }
   ],
   "source": [
    "#meu target sera a raiz quadrada da variavel\n",
    "X = housing.drop(\"sqrt_median_house_value\", axis=1)\n",
    "y = housing['sqrt_median_house_value']\n",
    "X_train, X_test, y_train, y_test = train_test_split(X, y, test_size=0.3, random_state=42)\n",
    "X_train.shape, X_test.shape, y_train.shape, y_test.shape"
   ]
  },
  {
   "cell_type": "markdown",
   "metadata": {
    "tags": []
   },
   "source": [
    "#### Padronizacao das variaveis"
   ]
  },
  {
   "cell_type": "code",
   "execution_count": 21,
   "metadata": {
    "tags": []
   },
   "outputs": [],
   "source": [
    "#estou criando uma variavel para cada padronizacao para depois ser capaz de \n",
    "#inverter a transformacao em cada base a fim de analisar o resultado\n",
    "y_train2 = pd.DataFrame(y_train)\n",
    "y_test2 = pd.DataFrame(y_test)\n",
    "\n",
    "ss_x_train = StandardScaler().fit(X_train)\n",
    "X_train_scaled = ss_x_train.transform(X_train)\n",
    "\n",
    "ss_x_test = StandardScaler().fit(X_test)\n",
    "X_test_scaled = ss_x_test.transform(X_test)\n",
    "\n",
    "ss_y_train = StandardScaler().fit(y_train2)\n",
    "y_train_scaled = ss_y_train.transform(y_train2)\n",
    "\n",
    "ss_y_test = StandardScaler().fit(y_test2)\n",
    "y_test_scaled = ss_y_test.transform(y_test2)"
   ]
  },
  {
   "cell_type": "code",
   "execution_count": 22,
   "metadata": {
    "tags": []
   },
   "outputs": [],
   "source": [
    "#Aplicação da regressao linear, setando positive = TRUE para que os coeficientes\n",
    "#sejam positivos, nos gerando predições positvas.\n",
    "logreg = LinearRegression(positive = True)\n",
    "logreg.fit(X_train_scaled, y_train_scaled)\n",
    "Y_pred = logreg.predict(X_test_scaled)"
   ]
  },
  {
   "cell_type": "code",
   "execution_count": 23,
   "metadata": {
    "tags": []
   },
   "outputs": [],
   "source": [
    "#retornando a base de predito para escala original\n",
    "Y_pred2 = pd.DataFrame(Y_pred)\n",
    "y_pred_normal = ss_y_test.inverse_transform(Y_pred2)"
   ]
  },
  {
   "cell_type": "code",
   "execution_count": 24,
   "metadata": {
    "tags": []
   },
   "outputs": [
    {
     "data": {
      "text/plain": [
       "68478.23710359524"
      ]
     },
     "execution_count": 24,
     "metadata": {},
     "output_type": "execute_result"
    }
   ],
   "source": [
    "#analisando o predito versus observado (voltando a escala do target ao normal) e calculando o RMSE\n",
    "y_true = y_test*y_test\n",
    "y_pred = y_pred_normal*y_pred_normal\n",
    "mean_squared_error(y_true, y_pred, squared=False)\n",
    "#RMSE = 68478.23710359524"
   ]
  },
  {
   "cell_type": "code",
   "execution_count": 25,
   "metadata": {
    "tags": []
   },
   "outputs": [
    {
     "data": {
      "text/plain": [
       "<matplotlib.collections.PathCollection at 0x245cd816cd0>"
      ]
     },
     "execution_count": 25,
     "metadata": {},
     "output_type": "execute_result"
    },
    {
     "data": {
      "image/png": "[encoded data removed]",
      "text/plain": [
       "<Figure size 640x480 with 1 Axes>"
      ]
     },
     "metadata": {},
     "output_type": "display_data"
    }
   ],
   "source": [
    "#scatter plot do observado vs predito\n",
    "plt.xlim(-10000, 510000)\n",
    "plt.ylim(-10000, 510000)\n",
    "plt.scatter(y_true, y_pred)\n",
    "#nos mostra que temos alguns pontos de outlier que foram preditos"
   ]
  },
  {
   "cell_type": "code",
   "execution_count": 26,
   "metadata": {
    "tags": []
   },
   "outputs": [
    {
     "data": {
      "text/html": [
       "<div>\n",
       "<style scoped>\n",
       "    .dataframe tbody tr th:only-of-type {\n",
       "        vertical-align: middle;\n",
       "    }\n",
       "\n",
       "    .dataframe tbody tr th {\n",
       "        vertical-align: top;\n",
       "    }\n",
       "\n",
       "    .dataframe thead th {\n",
       "        text-align: right;\n",
       "    }\n",
       "</style>\n",
       "<table border=\"1\" class=\"dataframe\">\n",
       "  <thead>\n",
       "    <tr style=\"text-align: right;\">\n",
       "      <th></th>\n",
       "      <th>Predicao</th>\n",
       "    </tr>\n",
       "  </thead>\n",
       "  <tbody>\n",
       "  </tbody>\n",
       "</table>\n",
       "</div>"
      ],
      "text/plain": [
       "Empty DataFrame\n",
       "Columns: [Predicao]\n",
       "Index: []"
      ]
     },
     "execution_count": 26,
     "metadata": {},
     "output_type": "execute_result"
    }
   ],
   "source": [
    "#garantindo que nao estamos prevendo valores negativos - deve vir vazio\n",
    "y_pred2 = pd.DataFrame(y_pred, columns = ['Predicao'])\n",
    "y_pred2[y_pred2['Predicao']< 0]"
   ]
  },
  {
   "cell_type": "code",
   "execution_count": 27,
   "metadata": {
    "tags": []
   },
   "outputs": [
    {
     "name": "stdout",
     "output_type": "stream",
     "text": [
      "                                   OLS Regression Results                                   \n",
      "============================================================================================\n",
      "Dep. Variable:     sqrt_median_house_value   R-squared (uncentered):                   0.975\n",
      "Model:                                 OLS   Adj. R-squared (uncentered):              0.975\n",
      "Method:                      Least Squares   F-statistic:                          1.359e+05\n",
      "Date:                     Fri, 08 Dec 2023   Prob (F-statistic):                        0.00\n",
      "Time:                             22:58:48   Log-Likelihood:                     -1.1740e+05\n",
      "No. Observations:                    20640   AIC:                                  2.348e+05\n",
      "Df Residuals:                        20634   BIC:                                  2.349e+05\n",
      "Df Model:                                6                                                  \n",
      "Covariance Type:                 nonrobust                                                  \n",
      "=========================================================================================\n",
      "                            coef    std err          t      P>|t|      [0.025      0.975]\n",
      "-----------------------------------------------------------------------------------------\n",
      "total_rooms               0.0058      0.000     20.322      0.000       0.005       0.006\n",
      "median_income            41.1381      0.265    155.522      0.000      40.620      41.657\n",
      "harvesine_distance        7.1028      0.440     16.125      0.000       6.239       7.966\n",
      "NEAR_OCEAN               96.7778      1.136     85.194      0.000      94.551      99.004\n",
      "prop_household_to_pop   430.8001      4.031    106.884      0.000     422.900     438.700\n",
      "housing_median_age2       0.0206      0.001     28.735      0.000       0.019       0.022\n",
      "==============================================================================\n",
      "Omnibus:                     1672.227   Durbin-Watson:                   1.031\n",
      "Prob(Omnibus):                  0.000   Jarque-Bera (JB):             7150.660\n",
      "Skew:                           0.301   Prob(JB):                         0.00\n",
      "Kurtosis:                       5.820   Cond. No.                     2.65e+04\n",
      "==============================================================================\n",
      "\n",
      "Notes:\n",
      "[1] R² is computed without centering (uncentered) since the model does not contain a constant.\n",
      "[2] Standard Errors assume that the covariance matrix of the errors is correctly specified.\n",
      "[3] The condition number is large, 2.65e+04. This might indicate that there are\n",
      "strong multicollinearity or other numerical problems.\n"
     ]
    }
   ],
   "source": [
    "#metricas do modelo\n",
    "sm.add_constant(X)\n",
    "mod = sm.OLS(y, X)\n",
    "logreg = mod.fit()\n",
    "print(logreg.summary())\n",
    "#p valores todos abaixo de 0.05\n",
    "#R quadrado de 0.975, nos dizendo que há pequenas diferencas entre o observado e o predito"
   ]
  }
 ],
 "metadata": {
  "kernelspec": {
   "display_name": "Python 3 (ipykernel)",
   "language": "python",
   "name": "python3"
  },
  "language_info": {
   "codemirror_mode": {
    "name": "ipython",
    "version": 3
   },
   "file_extension": ".py",
   "mimetype": "text/x-python",
   "name": "python",
   "nbconvert_exporter": "python",
   "pygments_lexer": "ipython3",
   "version": "3.11.5"
  }
 },
 "nbformat": 4,
 "nbformat_minor": 4
}
